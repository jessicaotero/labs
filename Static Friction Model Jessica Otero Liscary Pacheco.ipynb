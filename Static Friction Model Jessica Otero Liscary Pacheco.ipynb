{
 "cells": [
  {
   "cell_type": "code",
   "execution_count": 2,
   "metadata": {
    "collapsed": false
   },
   "outputs": [],
   "source": [
    "%matplotlib inline"
   ]
  },
  {
   "cell_type": "markdown",
   "metadata": {},
   "source": [
    "# Intro"
   ]
  },
  {
   "cell_type": "markdown",
   "metadata": {},
   "source": [
    "This lab report demonstrates static friction on a box and spring model and the effect of changes in elevation."
   ]
  },
  {
   "cell_type": "markdown",
   "metadata": {},
   "source": [
    "# Procedure"
   ]
  },
  {
   "cell_type": "markdown",
   "metadata": {},
   "source": [
    "First we use a white table that has no elevation. We grab a spring scale attached to a box  and placed different weights in the box. We begin to pull the spring scale with the weights until it begins to move. We see more Newtons are required with the weight we use. After we recorder the data, we elevated the table to 11 degrees and repeated the steps listed above."
   ]
  },
  {
   "cell_type": "markdown",
   "metadata": {},
   "source": [
    "# Data and Analysis"
   ]
  },
  {
   "cell_type": "markdown",
   "metadata": {},
   "source": [
    "| Mass(g)  | Force(N)  | Force(N) * |\n",
    "|---|---|---|\n",
    "| 0    | 0.4  | 0.413  |\n",
    "| 100  | .8  | 0.713  |\n",
    "| 200  | 1.2  | 1.113  |\n",
    "| 300  | 1.45 |1.413   |\n",
    "| 400  | 1.75| 1.813   |\n",
    "| 500  | 2.15 |2.313 |\n"
   ]
  },
  {
   "cell_type": "code",
   "execution_count": 4,
   "metadata": {
    "collapsed": false
   },
   "outputs": [
    {
     "data": {
      "image/png": "[encoded data removed]",
      "text/plain": [
       "<matplotlib.figure.Figure at 0x7ab9b00>"
      ]
     },
     "metadata": {},
     "output_type": "display_data"
    }
   ],
   "source": [
    "import matplotlib.pyplot as plt\n",
    "import numpy as np\n",
    "from scipy.optimize import curve_fit\n",
    "mass = np.array([0.0, 100.0, 200.0, 300.0, 400.0, 500.0])\n",
    "force = np.array([.4, .8, 1.2, 1.45, 1.75, 2.15])\n",
    "xx = np.linspace(0.0,501,20)\n",
    "\n",
    "mass2 = [0.0, 100.0, 200.0, 300.0, 400.0, 500.0]\n",
    "force2 = [.413, .713, 1.113, 1.413, 1.813, 2.313]\n",
    "xx = np.linspace(0.0,501,20)\n",
    "\n",
    "def lin_model(x,a,b):\n",
    "    return a*x + b\n",
    "def lin_model2(x2,c,d):\n",
    "    return c*x2 + d\n",
    "\n",
    "a,b=curve_fit(lin_model,mass,force)[0]\n",
    "print=(a,b)\n",
    "\n",
    "c,d = curve_fit(lin_model2, mass2, force2)[0]\n",
    "print =(c,d)\n",
    "plt.plot(mass,force,'.r', label='raw flat surface')\n",
    "plt.plot (mass2,force2,'.b', label='raw inclined surface')\n",
    "plt.plot(xx,lin_model(xx,a,b), 'r--')\n",
    "plt.plot(xx,lin_model2(xx,c,d), 'b--')\n",
    "plt.xlabel('Mass(g)')\n",
    "plt.ylabel('Force(N)')\n",
    "plt.title('Static Friction Model (Elevated & Not Elevated)')\n",
    "plt.legend(loc='lower right')\n",
    "plt.show()"
   ]
  },
  {
   "cell_type": "markdown",
   "metadata": {
    "collapsed": false
   },
   "source": [
    "# Model for Non-Elevated Data"
   ]
  },
  {
   "cell_type": "markdown",
   "metadata": {},
   "source": [
    "$$y=0.00339x + 0.4452$$"
   ]
  },
  {
   "cell_type": "markdown",
   "metadata": {
    "collapsed": false
   },
   "source": [
    "# Model for Elevated Data"
   ]
  },
  {
   "cell_type": "markdown",
   "metadata": {},
   "source": [
    "$$y=0.00374x+ 0.36061$$"
   ]
  },
  {
   "cell_type": "markdown",
   "metadata": {},
   "source": [
    "# Observation"
   ]
  },
  {
   "cell_type": "markdown",
   "metadata": {
    "collapsed": true
   },
   "source": [
    "When comparing the elevated data from the non-elevated data, the informtation clearly shows that the required force increased. The static friction makes it difficult for the elevated box to move. Friction is a force that makes it harder for two objects to slide alongside one another. Due to the elevation, the initial pull of the spring became became harder. On top of the increase in friction the gravitational pull pushes the object downward. We also observed that the type of surface used changed the force requirement to cause the box to move. The texture of the surface also plays a role in the amount of friction wheter it is hard,soft, smooth, or rough. So the model Fs=km would not be a correct model for static friction because the mass is not only what static friction depends on. That is why the model ..."
   ]
  },
  {
   "cell_type": "code",
   "execution_count": null,
   "metadata": {
    "collapsed": true
   },
   "outputs": [],
   "source": []
  }
 ],
 "metadata": {
  "kernelspec": {
   "display_name": "Python 3",
   "language": "python",
   "name": "python3"
  },
  "language_info": {
   "codemirror_mode": {
    "name": "ipython",
    "version": 3
   },
   "file_extension": ".py",
   "mimetype": "text/x-python",
   "name": "python",
   "nbconvert_exporter": "python",
   "pygments_lexer": "ipython3",
   "version": "3.4.4"
  }
 },
 "nbformat": 4,
 "nbformat_minor": 0
}
